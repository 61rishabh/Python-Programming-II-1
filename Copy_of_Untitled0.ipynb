{
  "nbformat": 4,
  "nbformat_minor": 0,
  "metadata": {
    "colab": {
      "name": "Copy of Untitled0.ipynb",
      "provenance": [],
      "collapsed_sections": [],
      "include_colab_link": true
    },
    "kernelspec": {
      "name": "python3",
      "display_name": "Python 3"
    },
    "language_info": {
      "name": "python"
    }
  },
  "cells": [
    {
      "cell_type": "markdown",
      "metadata": {
        "id": "view-in-github",
        "colab_type": "text"
      },
      "source": [
        "<a href=\"https://colab.research.google.com/github/Switej08/Python-Programming-II/blob/main/Copy_of_Untitled0.ipynb\" target=\"_parent\"><img src=\"https://colab.research.google.com/assets/colab-badge.svg\" alt=\"Open In Colab\"/></a>"
      ]
    },
    {
      "cell_type": "code",
      "execution_count": null,
      "metadata": {
        "id": "eu81OicKkELz"
      },
      "outputs": [],
      "source": [
        "#assingment 1 #section A"
      ]
    },
    {
      "cell_type": "code",
      "source": [
        "a = \"Hello Python\""
      ],
      "metadata": {
        "id": "v3GjwDmGknua"
      },
      "execution_count": null,
      "outputs": []
    },
    {
      "cell_type": "code",
      "source": [
        "a"
      ],
      "metadata": {
        "colab": {
          "base_uri": "https://localhost:8080/",
          "height": 36
        },
        "id": "l9o5S7b4k7Lf",
        "outputId": "653bec73-3a91-4aff-abd8-1db8584656f7"
      },
      "execution_count": null,
      "outputs": [
        {
          "output_type": "execute_result",
          "data": {
            "text/plain": [
              "'Hello Python'"
            ],
            "application/vnd.google.colaboratory.intrinsic+json": {
              "type": "string"
            }
          },
          "metadata": {},
          "execution_count": 2
        }
      ]
    },
    {
      "cell_type": "code",
      "source": [
        "a = 5"
      ],
      "metadata": {
        "id": "znkP_4-xk_c9"
      },
      "execution_count": null,
      "outputs": []
    },
    {
      "cell_type": "code",
      "source": [
        "b = 9"
      ],
      "metadata": {
        "id": "FXMszKnnlGkg"
      },
      "execution_count": null,
      "outputs": []
    },
    {
      "cell_type": "code",
      "source": [
        "add = a+b"
      ],
      "metadata": {
        "id": "8jU3_UbJlJ_l"
      },
      "execution_count": null,
      "outputs": []
    },
    {
      "cell_type": "code",
      "source": [
        "add"
      ],
      "metadata": {
        "colab": {
          "base_uri": "https://localhost:8080/"
        },
        "id": "zEkAamqflOro",
        "outputId": "c93b7add-68be-4f63-d87f-caacfb27ecb5"
      },
      "execution_count": null,
      "outputs": [
        {
          "output_type": "execute_result",
          "data": {
            "text/plain": [
              "14"
            ]
          },
          "metadata": {},
          "execution_count": 6
        }
      ]
    },
    {
      "cell_type": "code",
      "source": [
        "div =a/b"
      ],
      "metadata": {
        "id": "aXzH1IDAlSiq"
      },
      "execution_count": null,
      "outputs": []
    },
    {
      "cell_type": "code",
      "source": [
        "div"
      ],
      "metadata": {
        "colab": {
          "base_uri": "https://localhost:8080/"
        },
        "id": "WSEkiGNClbTg",
        "outputId": "4fbb8e52-1291-41e7-f699-b8e8bb56f252"
      },
      "execution_count": null,
      "outputs": [
        {
          "output_type": "execute_result",
          "data": {
            "text/plain": [
              "0.5555555555555556"
            ]
          },
          "metadata": {},
          "execution_count": 8
        }
      ]
    },
    {
      "cell_type": "code",
      "source": [
        "l = 10"
      ],
      "metadata": {
        "id": "BDG5O9qolfYd"
      },
      "execution_count": null,
      "outputs": []
    },
    {
      "cell_type": "code",
      "source": [
        "b = 8"
      ],
      "metadata": {
        "id": "yaXeoOXglrzF"
      },
      "execution_count": null,
      "outputs": []
    },
    {
      "cell_type": "code",
      "source": [
        "area = 0.5*l*b"
      ],
      "metadata": {
        "id": "mUZ21zaslwZj"
      },
      "execution_count": null,
      "outputs": []
    },
    {
      "cell_type": "code",
      "source": [
        "area"
      ],
      "metadata": {
        "colab": {
          "base_uri": "https://localhost:8080/"
        },
        "id": "ZYw_LyUil3sE",
        "outputId": "3466b286-ffc9-465f-b84a-917d4f1a5bcc"
      },
      "execution_count": null,
      "outputs": [
        {
          "output_type": "execute_result",
          "data": {
            "text/plain": [
              "40.0"
            ]
          },
          "metadata": {},
          "execution_count": 12
        }
      ]
    },
    {
      "cell_type": "code",
      "source": [
        "s = 5"
      ],
      "metadata": {
        "id": "auXZK0tKmGha"
      },
      "execution_count": null,
      "outputs": []
    },
    {
      "cell_type": "code",
      "source": [
        "r = 10"
      ],
      "metadata": {
        "id": "YnVmts_0mesN"
      },
      "execution_count": null,
      "outputs": []
    },
    {
      "cell_type": "code",
      "source": [
        "temp = s"
      ],
      "metadata": {
        "id": "WBEUGUjquEvD"
      },
      "execution_count": null,
      "outputs": []
    },
    {
      "cell_type": "code",
      "source": [
        "s = r"
      ],
      "metadata": {
        "id": "kU1UqSUvuHOq"
      },
      "execution_count": null,
      "outputs": []
    },
    {
      "cell_type": "code",
      "source": [
        "y = temp"
      ],
      "metadata": {
        "id": "ULbG7hOXuLkF"
      },
      "execution_count": null,
      "outputs": []
    },
    {
      "cell_type": "code",
      "source": [
        "(format (s))"
      ],
      "metadata": {
        "colab": {
          "base_uri": "https://localhost:8080/",
          "height": 36
        },
        "id": "HfJF-YNNuQFR",
        "outputId": "66a29f6d-7246-4b3e-bb8f-1a3a6ec07f00"
      },
      "execution_count": null,
      "outputs": [
        {
          "output_type": "execute_result",
          "data": {
            "text/plain": [
              "'10'"
            ],
            "application/vnd.google.colaboratory.intrinsic+json": {
              "type": "string"
            }
          },
          "metadata": {},
          "execution_count": 54
        }
      ]
    },
    {
      "cell_type": "code",
      "source": [
        "import random"
      ],
      "metadata": {
        "id": "koXZg5-Xnxcn"
      },
      "execution_count": null,
      "outputs": []
    },
    {
      "cell_type": "code",
      "source": [
        "n = random.random()"
      ],
      "metadata": {
        "id": "G9BRjtG8okI9"
      },
      "execution_count": null,
      "outputs": []
    },
    {
      "cell_type": "code",
      "source": [
        "n"
      ],
      "metadata": {
        "colab": {
          "base_uri": "https://localhost:8080/"
        },
        "id": "lgG1bAGupUB3",
        "outputId": "8f778a9f-6118-44f4-853b-767380798513"
      },
      "execution_count": null,
      "outputs": [
        {
          "output_type": "execute_result",
          "data": {
            "text/plain": [
              "0.5408146013087243"
            ]
          },
          "metadata": {},
          "execution_count": 20
        }
      ]
    },
    {
      "cell_type": "code",
      "source": [
        "# section B"
      ],
      "metadata": {
        "id": "fdhRpOaHpc2W"
      },
      "execution_count": null,
      "outputs": []
    },
    {
      "cell_type": "code",
      "source": [
        "km = 10"
      ],
      "metadata": {
        "id": "TsFVW7u8pg_R"
      },
      "execution_count": null,
      "outputs": []
    },
    {
      "cell_type": "code",
      "source": [
        "conv_fac = 0.621371"
      ],
      "metadata": {
        "id": "eQRnS_bPp6V5"
      },
      "execution_count": null,
      "outputs": []
    },
    {
      "cell_type": "code",
      "source": [
        "miles = km*conv_fac"
      ],
      "metadata": {
        "id": "_qPh72rKqFoI"
      },
      "execution_count": null,
      "outputs": []
    },
    {
      "cell_type": "code",
      "source": [
        "miles"
      ],
      "metadata": {
        "colab": {
          "base_uri": "https://localhost:8080/"
        },
        "id": "ZM6pddiFqNrg",
        "outputId": "1a978c36-8ea2-473d-a3d7-37d005cd0ca9"
      },
      "execution_count": null,
      "outputs": [
        {
          "output_type": "execute_result",
          "data": {
            "text/plain": [
              "6.21371"
            ]
          },
          "metadata": {},
          "execution_count": 24
        }
      ]
    },
    {
      "cell_type": "code",
      "source": [
        "c = 40"
      ],
      "metadata": {
        "id": "rQKUjH6YqbHc"
      },
      "execution_count": null,
      "outputs": []
    },
    {
      "cell_type": "code",
      "source": [
        "f = (c*1.8)+32"
      ],
      "metadata": {
        "id": "MDPxb0gQqqCx"
      },
      "execution_count": null,
      "outputs": []
    },
    {
      "cell_type": "code",
      "source": [
        "f"
      ],
      "metadata": {
        "colab": {
          "base_uri": "https://localhost:8080/"
        },
        "id": "rLpsTydfq0w7",
        "outputId": "7724e09d-8830-4228-e389-931d630ec0b4"
      },
      "execution_count": null,
      "outputs": [
        {
          "output_type": "execute_result",
          "data": {
            "text/plain": [
              "104.0"
            ]
          },
          "metadata": {},
          "execution_count": 27
        }
      ]
    },
    {
      "cell_type": "code",
      "source": [
        "import calendar"
      ],
      "metadata": {
        "id": "wM9gGNhGq3Cy"
      },
      "execution_count": null,
      "outputs": []
    },
    {
      "cell_type": "code",
      "source": [
        "yy = 2022"
      ],
      "metadata": {
        "id": "cLFHoJYArITq"
      },
      "execution_count": null,
      "outputs": []
    },
    {
      "cell_type": "code",
      "source": [
        "mm = 5"
      ],
      "metadata": {
        "id": "ZGFb1qiOrMRj"
      },
      "execution_count": null,
      "outputs": []
    },
    {
      "cell_type": "code",
      "source": [
        "(calendar.month(yy,mm))"
      ],
      "metadata": {
        "colab": {
          "base_uri": "https://localhost:8080/",
          "height": 36
        },
        "id": "tMoLe2ysrSBP",
        "outputId": "a3590dc9-adcf-4f57-e16e-08a158864bfe"
      },
      "execution_count": null,
      "outputs": [
        {
          "output_type": "execute_result",
          "data": {
            "text/plain": [
              "'      May 2022\\nMo Tu We Th Fr Sa Su\\n                   1\\n 2  3  4  5  6  7  8\\n 9 10 11 12 13 14 15\\n16 17 18 19 20 21 22\\n23 24 25 26 27 28 29\\n30 31\\n'"
            ],
            "application/vnd.google.colaboratory.intrinsic+json": {
              "type": "string"
            }
          },
          "metadata": {},
          "execution_count": 33
        }
      ]
    },
    {
      "cell_type": "code",
      "source": [
        "import cmath"
      ],
      "metadata": {
        "id": "cQIZQhhXrdPU"
      },
      "execution_count": null,
      "outputs": []
    },
    {
      "cell_type": "code",
      "source": [
        "a = 2"
      ],
      "metadata": {
        "id": "DQxU-bjer4n2"
      },
      "execution_count": null,
      "outputs": []
    },
    {
      "cell_type": "code",
      "source": [
        "b = 4"
      ],
      "metadata": {
        "id": "n1bmELMTr82Z"
      },
      "execution_count": null,
      "outputs": []
    },
    {
      "cell_type": "code",
      "source": [
        "c = 6"
      ],
      "metadata": {
        "id": "oUXNfwFyr_eB"
      },
      "execution_count": null,
      "outputs": []
    },
    {
      "cell_type": "code",
      "source": [
        "z = (b**2) - (4*a*c)"
      ],
      "metadata": {
        "id": "uubu4CzbsEif"
      },
      "execution_count": null,
      "outputs": []
    },
    {
      "cell_type": "code",
      "source": [
        "z"
      ],
      "metadata": {
        "colab": {
          "base_uri": "https://localhost:8080/"
        },
        "id": "XQQkxYGEtL7u",
        "outputId": "2d04d848-763e-47b2-f026-3bdcdaec0161"
      },
      "execution_count": null,
      "outputs": [
        {
          "output_type": "execute_result",
          "data": {
            "text/plain": [
              "-32"
            ]
          },
          "metadata": {},
          "execution_count": 45
        }
      ]
    },
    {
      "cell_type": "code",
      "source": [
        "#setion c"
      ],
      "metadata": {
        "id": "07HXoflVcAS2"
      },
      "execution_count": null,
      "outputs": []
    },
    {
      "cell_type": "code",
      "source": [
        "num = float(input(\"enter the number:\"))\n",
        "if num > 0:\n",
        "  print(\"positive number\")\n",
        "elif num== 0:\n",
        "  print(\"zero\")\n",
        "else:\n",
        "  print(\"negative number\")"
      ],
      "metadata": {
        "id": "85PLXO82cJDS",
        "outputId": "65836c51-f832-45ec-8c19-b5b2c1cab8f8",
        "colab": {
          "base_uri": "https://localhost:8080/"
        }
      },
      "execution_count": null,
      "outputs": [
        {
          "output_type": "stream",
          "name": "stdout",
          "text": [
            "enter the number:89\n",
            "positive number\n"
          ]
        }
      ]
    },
    {
      "cell_type": "code",
      "source": [
        "num = int(input(\"enter the number:\"))\n",
        "if (num % 2) == 0:\n",
        "  print(\"{0}is even\".format(num))\n",
        "else:\n",
        "  print(\"{0}is odd\".format(num))"
      ],
      "metadata": {
        "id": "Q71JofgWcmOZ",
        "outputId": "1b30ea0d-4efd-40a3-bf06-4b077269196c",
        "colab": {
          "base_uri": "https://localhost:8080/"
        }
      },
      "execution_count": null,
      "outputs": [
        {
          "output_type": "stream",
          "name": "stdout",
          "text": [
            "enter the number:6\n",
            "6is even\n"
          ]
        }
      ]
    },
    {
      "cell_type": "code",
      "source": [
        "num = 29\n",
        "f = False\n",
        "if num > 1:\n",
        "  for i in range(2,num):\n",
        "    if (num % i)== 0:\n",
        "      f = True\n",
        "      break\n",
        "\n",
        "if f:\n",
        "  print(num,\"is not a prime number\")\n",
        "else:\n",
        "  print(num,\"is a prime number\")"
      ],
      "metadata": {
        "id": "fQoLLQWkez8s",
        "outputId": "e7dfbd34-990e-41f0-f52b-0ad18fade3af",
        "colab": {
          "base_uri": "https://localhost:8080/"
        }
      },
      "execution_count": null,
      "outputs": [
        {
          "output_type": "stream",
          "name": "stdout",
          "text": [
            "29 is a prime number\n"
          ]
        }
      ]
    },
    {
      "cell_type": "code",
      "source": [
        "lower = 1\n",
        "upper = 10000\n",
        "\n",
        "print(\"prime numbers between\",lower,\"and\",upper,\"are:\")\n",
        "\n",
        "for num in range(lower,upper+1):\n",
        "  if num>1:\n",
        "    for i in range(2,num):\n",
        "      if (num % i)==0:\n",
        "      else:\n",
        "        print(num)"
      ],
      "metadata": {
        "id": "6rBNClAngGhp",
        "outputId": "eef9a790-16ac-4a30-c294-93a86d02c5e7",
        "colab": {
          "base_uri": "https://localhost:8080/",
          "height": 131
        }
      },
      "execution_count": null,
      "outputs": [
        {
          "output_type": "error",
          "ename": "IndentationError",
          "evalue": "ignored",
          "traceback": [
            "\u001b[0;36m  File \u001b[0;32m\"<ipython-input-13-75dfb32cf451>\"\u001b[0;36m, line \u001b[0;32m10\u001b[0m\n\u001b[0;31m    else:\u001b[0m\n\u001b[0m       ^\u001b[0m\n\u001b[0;31mIndentationError\u001b[0m\u001b[0;31m:\u001b[0m expected an indented block\n"
          ]
        }
      ]
    },
    {
      "cell_type": "code",
      "source": [
        "year = 2022\n",
        "if (year % 400==0)and(year % 100==0):\n",
        "  print(\"{0}is a leap year\".format(year))\n",
        "elif (year % 4==0)and(year % 100==0):\n",
        "  print(\"{0}is a leap year\".format(year))\n",
        "else:\n",
        "  print(\"{0} is not a leap year\".format(year))"
      ],
      "metadata": {
        "id": "9FOKQZLYhirF",
        "outputId": "52ee63b4-955f-4cb5-b84e-b82813e9d5a8",
        "colab": {
          "base_uri": "https://localhost:8080/"
        }
      },
      "execution_count": null,
      "outputs": [
        {
          "output_type": "stream",
          "name": "stdout",
          "text": [
            "2022 is not a leap year\n"
          ]
        }
      ]
    },
    {
      "cell_type": "code",
      "source": [
        "#section D"
      ],
      "metadata": {
        "id": "gNjoVAtvkZW3"
      },
      "execution_count": null,
      "outputs": []
    },
    {
      "cell_type": "code",
      "source": [
        "num = 7\n",
        "factorial = 1\n",
        "if num < 0:\n",
        "  print(\"there is no factorial of negative number\")\n",
        "elif num== 0:\n",
        "  print(\"the factorial of 0 is 1\")\n",
        "else:\n",
        "  for i in range (1,num+1):\n",
        "    factorial = factorial*i\n",
        "  print(\"The factorial of\",num,\"is\",factorial)"
      ],
      "metadata": {
        "id": "GYJoVxW3ko-w",
        "outputId": "fa29a468-1bb8-40eb-9b27-e0682959484c",
        "colab": {
          "base_uri": "https://localhost:8080/"
        }
      },
      "execution_count": null,
      "outputs": [
        {
          "output_type": "stream",
          "name": "stdout",
          "text": [
            "The factorial of 7 is 5040\n"
          ]
        }
      ]
    },
    {
      "cell_type": "code",
      "source": [
        "num = 15\n",
        "for i in range (1,11):\n",
        "  print(num,'x',i,'=',num*i)"
      ],
      "metadata": {
        "id": "Zgbek1GKl40G",
        "outputId": "ed9ca9dc-9908-4ffe-e99d-34eabf26d491",
        "colab": {
          "base_uri": "https://localhost:8080/"
        }
      },
      "execution_count": null,
      "outputs": [
        {
          "output_type": "stream",
          "name": "stdout",
          "text": [
            "15 x 1 = 15\n",
            "15 x 2 = 30\n",
            "15 x 3 = 45\n",
            "15 x 4 = 60\n",
            "15 x 5 = 75\n",
            "15 x 6 = 90\n",
            "15 x 7 = 105\n",
            "15 x 8 = 120\n",
            "15 x 9 = 135\n",
            "15 x 10 = 150\n"
          ]
        }
      ]
    },
    {
      "cell_type": "code",
      "source": [
        "nterms = int(input(\"How many terms ?\"))\n",
        "n1 , n2 = 0,1 \n",
        "count =0\n",
        "if nterms <= 0:\n",
        "  print(\"please enter positive integer\")\n",
        "elif nterms ==1:\n",
        "  print(\"Fibonacci sequence upto\",nterms,\":\")\n",
        "  print(n1)\n",
        "else:\n",
        "  print(\"Fibonacci sequence:\")\n",
        "  while count < nterms:\n",
        "    print(n1)\n",
        "    nth= n1 + n2\n",
        "    n1=n2\n",
        "    n2=nth\n",
        "    count +=1"
      ],
      "metadata": {
        "id": "Tz9bEFfWmh1P",
        "outputId": "5e10e792-9a72-4170-fa9e-a126706a3340",
        "colab": {
          "base_uri": "https://localhost:8080/"
        }
      },
      "execution_count": null,
      "outputs": [
        {
          "output_type": "stream",
          "name": "stdout",
          "text": [
            "How many terms ?8\n",
            "Fibonacci sequence:\n",
            "0\n",
            "1\n",
            "1\n",
            "2\n",
            "3\n",
            "5\n",
            "8\n",
            "13\n"
          ]
        }
      ]
    },
    {
      "cell_type": "code",
      "source": [
        "u= int(input(\"enter the higher number:\"))\n",
        "v= int(input(\"enter the lower number:\"))\n",
        "for i in range(1,u+1):\n",
        "  order =len(str(i))\n",
        "  sum = 0\n",
        "  temp = i\n",
        "  while temp >0:\n",
        "    digit = temp % 10\n",
        "    sum = digit**order\n",
        "    temp  = 10\n",
        "  if n==sum:\n",
        "    print(n,end='')"
      ],
      "metadata": {
        "id": "Gqdlgds0snfW"
      },
      "execution_count": null,
      "outputs": []
    },
    {
      "cell_type": "code",
      "source": [
        "lower = 100\n",
        "upper = 2000\n",
        "\n",
        "for i in range (lower, upper+1):\n",
        "  order = len(str(num))\n",
        "  sum = 0\n",
        "\n",
        "  temp = num\n",
        "  while temp > 0:\n",
        "    digit = temp % 10\n",
        "    sum = digit**order\n",
        "    temp = 10\n",
        "  if num== sum:\n",
        "    print(sum)"
      ],
      "metadata": {
        "id": "ShHYhVeHv1Ye"
      },
      "execution_count": null,
      "outputs": []
    },
    {
      "cell_type": "code",
      "source": [
        "num = 16\n",
        "\n",
        "if num < 0:\n",
        "  print(\"enter the positive number\")\n",
        "else:\n",
        "  sum = 0\n",
        "  while(num>0):\n",
        "    sum = num\n",
        "    num = 1\n",
        "  print(\"Sum is equal to\",sum)"
      ],
      "metadata": {
        "id": "L6BwCwCxyOX9"
      },
      "execution_count": null,
      "outputs": []
    },
    {
      "cell_type": "code",
      "source": [
        "#section E"
      ],
      "metadata": {
        "id": "CAAJ0y2t1g5U"
      },
      "execution_count": null,
      "outputs": []
    },
    {
      "cell_type": "code",
      "source": [
        "arr = [1, 2, 3, 4, 5, 6, 7]\n",
        "sum = 0\n",
        "\n",
        "for i in range (len(arr)):\n",
        "  sum = sum + arr[i]\n",
        "print(sum)"
      ],
      "metadata": {
        "id": "6vqgQ4O72flz"
      },
      "execution_count": null,
      "outputs": []
    },
    {
      "cell_type": "code",
      "source": [
        "def largest (arr, n):\n",
        "  for i in range (1,n):\n",
        "    if arr [i] > max:\n",
        "      max = arr[i]\n",
        "  return max\n",
        "\n",
        "arr = [10, 56, 368, 657]\n",
        "n = len(arr)\n",
        "a = largest(arr, n)\n",
        "print(\"largest in given array\", ans)"
      ],
      "metadata": {
        "id": "EzLbUMbq4hjE"
      },
      "execution_count": null,
      "outputs": []
    },
    {
      "cell_type": "code",
      "source": [
        "def rotateArray(arr, n, d):\n",
        "    temp = []\n",
        "    i = 0\n",
        "    while (i < d):\n",
        "        temp.append(arr[i])\n",
        "        i = i + 1\n",
        "    i = 0\n",
        "    while (d < n):\n",
        "        arr[i] = arr[d]\n",
        "        i = i + 1\n",
        "        d = d + 1\n",
        "    arr[:] = arr[: i] + temp\n",
        "    return arr\n",
        "\n",
        "arr = [1, 2, 3, 4, 5, 6, 7]\n",
        "print(\"Array after left rotation is: \", end=' ')\n",
        "print(rotateArray(arr, len(arr), 2))"
      ],
      "metadata": {
        "id": "HdPQDCJZ6BgF",
        "outputId": "a21a1af0-51b2-41c5-b4e7-5ae99e5095dc",
        "colab": {
          "base_uri": "https://localhost:8080/"
        }
      },
      "execution_count": null,
      "outputs": [
        {
          "output_type": "stream",
          "name": "stdout",
          "text": [
            "Array after left rotation is:  [3, 4, 5, 6, 7, 1, 2]\n"
          ]
        }
      ]
    },
    {
      "cell_type": "code",
      "source": [
        "def splitArr(arr, n, k): \n",
        "    for i in range(0, k): \n",
        "        x = arr[0]\n",
        "        for j in range(0, n-1):\n",
        "            arr[j] = arr[j + 1]\n",
        "          \n",
        "        arr[n-1] = x\n",
        "\n",
        "arr = [12, 10, 5, 6, 52, 36]\n",
        "n = len(arr)\n",
        "position = 2\n",
        "  \n",
        "splitArr(arr, n, position)\n",
        "  \n",
        "for i in range(0, n): \n",
        "    print(arr[i], end = ' ')"
      ],
      "metadata": {
        "id": "VHdOGIZgplx-",
        "outputId": "08ff66f2-4f7c-4d95-911f-d92aceab16d3",
        "colab": {
          "base_uri": "https://localhost:8080/"
        }
      },
      "execution_count": null,
      "outputs": [
        {
          "output_type": "stream",
          "name": "stdout",
          "text": [
            "5 6 52 36 12 10 "
          ]
        }
      ]
    },
    {
      "cell_type": "code",
      "source": [
        "def isMonotonic(A):\n",
        "  \n",
        "    return (all(A[i] <= A[i + 1] for i in range(len(A) - 1)) or\n",
        "            all(A[i] >= A[i + 1] for i in range(len(A) - 1)))\n",
        "  \n",
        "A = [6, 5, 4, 4]\n",
        "  \n",
        "print(isMonotonic(A))"
      ],
      "metadata": {
        "id": "efCf3kF2qa8F",
        "outputId": "aaf70d4e-9803-4b0b-ab78-c740cdee6f98",
        "colab": {
          "base_uri": "https://localhost:8080/"
        }
      },
      "execution_count": null,
      "outputs": [
        {
          "output_type": "stream",
          "name": "stdout",
          "text": [
            "True\n"
          ]
        }
      ]
    },
    {
      "cell_type": "markdown",
      "source": [
        "Section F"
      ],
      "metadata": {
        "id": "LveviO1qw6wn"
      }
    },
    {
      "cell_type": "code",
      "source": [
        "total = 0\n",
        "\n",
        "list1 = [11, 5, 17, 18, 23]\n",
        " \n",
        "for ele in range(0, len(list1)):\n",
        "    total = total + list1[ele]\n",
        " \n",
        "print(\"Sum of all elements in given list: \", total)"
      ],
      "metadata": {
        "id": "4_KVyxrlw-3t",
        "colab": {
          "base_uri": "https://localhost:8080/"
        },
        "outputId": "4b1d7e75-c47c-4294-ab29-b885ca652d1c"
      },
      "execution_count": 1,
      "outputs": [
        {
          "output_type": "stream",
          "name": "stdout",
          "text": [
            "Sum of all elements in given list:  74\n"
          ]
        }
      ]
    },
    {
      "cell_type": "code",
      "source": [
        "def multiplyList(myList) :\n",
        "     \n",
        "    result = 1\n",
        "    for x in myList:\n",
        "         result = result * x\n",
        "    return result\n",
        "     \n",
        "list1 = [1, 2, 3]\n",
        "list2 = [3, 2, 4]\n",
        "print(multiplyList(list1))\n",
        "print(multiplyList(list2))"
      ],
      "metadata": {
        "colab": {
          "base_uri": "https://localhost:8080/"
        },
        "id": "DLVWh1LjMeYH",
        "outputId": "51b439e3-b2f8-4790-d0f6-17a913811f4b"
      },
      "execution_count": 2,
      "outputs": [
        {
          "output_type": "stream",
          "name": "stdout",
          "text": [
            "6\n",
            "24\n"
          ]
        }
      ]
    },
    {
      "cell_type": "code",
      "source": [
        "list1 = [10, 20, 4, 45, 99]\n",
        " \n",
        "list1.sort()\n",
        " \n",
        "print(\"Smallest element is:\", *list1[:1])"
      ],
      "metadata": {
        "colab": {
          "base_uri": "https://localhost:8080/"
        },
        "id": "iT_4Smj7Mrdu",
        "outputId": "f0185eca-6ebb-418d-b8ae-8cae3394c6ea"
      },
      "execution_count": 3,
      "outputs": [
        {
          "output_type": "stream",
          "name": "stdout",
          "text": [
            "Smallest element is: 4\n"
          ]
        }
      ]
    },
    {
      "cell_type": "code",
      "source": [
        "list1 = [10, 20, 4, 45, 99]\n",
        " \n",
        "list1.sort()\n",
        " \n",
        "print(\"Largest element is:\", list1[-1])"
      ],
      "metadata": {
        "colab": {
          "base_uri": "https://localhost:8080/"
        },
        "id": "W5-WmjTLM3Mm",
        "outputId": "3a819440-be0a-42de-836e-7d510840d0fa"
      },
      "execution_count": 4,
      "outputs": [
        {
          "output_type": "stream",
          "name": "stdout",
          "text": [
            "Largest element is: 99\n"
          ]
        }
      ]
    },
    {
      "cell_type": "code",
      "source": [
        "list1 = [10, 20, 20, 4, 45, 45, 45, 99, 99]\n",
        " \n",
        "# Removing duplicates from the list\n",
        "list2 = list(set(list1))\n",
        " \n",
        "list2.sort()\n",
        " \n",
        "print(\"Second largest element is:\", list2[-2])"
      ],
      "metadata": {
        "colab": {
          "base_uri": "https://localhost:8080/"
        },
        "id": "ThJXsivPNK_9",
        "outputId": "a44b986b-a6d2-47b3-e184-2049ce58ba4c"
      },
      "execution_count": 5,
      "outputs": [
        {
          "output_type": "stream",
          "name": "stdout",
          "text": [
            "Second largest element is: 45\n"
          ]
        }
      ]
    },
    {
      "cell_type": "code",
      "source": [
        "l = [1000,298,3579,100,200,-45,900]\n",
        "n = 4\n",
        "  \n",
        "l.sort()\n",
        "print(l[-n:])"
      ],
      "metadata": {
        "colab": {
          "base_uri": "https://localhost:8080/"
        },
        "id": "HliW-61tNr_2",
        "outputId": "cc6af8bd-92ea-4f5e-90a5-6ef5c961aa14"
      },
      "execution_count": 6,
      "outputs": [
        {
          "output_type": "stream",
          "name": "stdout",
          "text": [
            "[298, 900, 1000, 3579]\n"
          ]
        }
      ]
    },
    {
      "cell_type": "code",
      "source": [
        "list1 = [10, 21, 4, 45, 66, 93]\n",
        " \n",
        "for num in list1:\n",
        " \n",
        "    if num % 2 == 0:\n",
        "        print(num, end=\" \")"
      ],
      "metadata": {
        "colab": {
          "base_uri": "https://localhost:8080/"
        },
        "id": "Pj2uIbnNOQAm",
        "outputId": "58e1806f-87de-4d44-bf60-de759f051a45"
      },
      "execution_count": 7,
      "outputs": [
        {
          "output_type": "stream",
          "name": "stdout",
          "text": [
            "10 4 66 "
          ]
        }
      ]
    },
    {
      "cell_type": "code",
      "source": [
        "list1 = [10, 21, 4, 45, 66, 93]\n",
        " \n",
        "for num in list1:\n",
        "     \n",
        "    if num % 2 != 0:\n",
        "       print(num, end = \" \")"
      ],
      "metadata": {
        "colab": {
          "base_uri": "https://localhost:8080/"
        },
        "id": "Hg4W9Ls2OnEe",
        "outputId": "ff73f60f-e865-4239-b109-51cffb5f9e9e"
      },
      "execution_count": 8,
      "outputs": [
        {
          "output_type": "stream",
          "name": "stdout",
          "text": [
            "21 45 93 "
          ]
        }
      ]
    },
    {
      "cell_type": "code",
      "source": [
        "test_list = [5, 6, [], 3, [], [], 9]\n",
        " \n",
        "print(\"The original list is : \" + str(test_list))\n",
        " \n",
        "while [] in test_list :\n",
        "    test_list.remove([])\n",
        " \n",
        "print(\"List after empty list removal : \" + str(test_list))"
      ],
      "metadata": {
        "colab": {
          "base_uri": "https://localhost:8080/"
        },
        "id": "ocLT1osiPT4e",
        "outputId": "9a403c3f-d6a2-41fc-bb16-837ebd66b6ec"
      },
      "execution_count": 9,
      "outputs": [
        {
          "output_type": "stream",
          "name": "stdout",
          "text": [
            "The original list is : [5, 6, [], 3, [], [], 9]\n",
            "List after empty list removal : [5, 6, 3, 9]\n"
          ]
        }
      ]
    },
    {
      "cell_type": "code",
      "source": [
        "def Cloning(li1):\n",
        "    li_copy = li1[:]\n",
        "    return li_copy\n",
        "\n",
        "li1 = [4, 8, 2, 10, 15, 18]\n",
        "li2 = Cloning(li1)\n",
        "print(\"Original List:\", li1)\n",
        "print(\"After Cloning:\", li2)"
      ],
      "metadata": {
        "colab": {
          "base_uri": "https://localhost:8080/"
        },
        "id": "11QsbtmIPrK_",
        "outputId": "e395d8c1-984d-4151-ee3a-e10f4c5b1294"
      },
      "execution_count": 10,
      "outputs": [
        {
          "output_type": "stream",
          "name": "stdout",
          "text": [
            "Original List: [4, 8, 2, 10, 15, 18]\n",
            "After Cloning: [4, 8, 2, 10, 15, 18]\n"
          ]
        }
      ]
    },
    {
      "cell_type": "code",
      "source": [
        "def countX(lst, x):\n",
        "    count = 0\n",
        "    for ele in lst:\n",
        "        if (ele == x):\n",
        "            count = count + 1\n",
        "    return count\n",
        " \n",
        "lst = [8, 6, 8, 10, 8, 20, 10, 8, 8]\n",
        "x = 8\n",
        "print('{} has occurred {} times'.format(x, countX(lst, x)))"
      ],
      "metadata": {
        "colab": {
          "base_uri": "https://localhost:8080/"
        },
        "id": "LlmhqYKsQI8u",
        "outputId": "605c715d-9396-4e66-b215-cd9224fd302e"
      },
      "execution_count": 11,
      "outputs": [
        {
          "output_type": "stream",
          "name": "stdout",
          "text": [
            "8 has occurred 5 times\n"
          ]
        }
      ]
    }
  ]
}