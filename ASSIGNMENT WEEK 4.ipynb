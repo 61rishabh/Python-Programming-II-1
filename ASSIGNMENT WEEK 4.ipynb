{
  "nbformat": 4,
  "nbformat_minor": 0,
  "metadata": {
    "colab": {
      "provenance": [],
      "authorship_tag": "ABX9TyPvuDgZeHULiud884+Dme81",
      "include_colab_link": true
    },
    "kernelspec": {
      "name": "python3",
      "display_name": "Python 3"
    },
    "language_info": {
      "name": "python"
    }
  },
  "cells": [
    {
      "cell_type": "markdown",
      "metadata": {
        "id": "view-in-github",
        "colab_type": "text"
      },
      "source": [
        "<a href=\"https://colab.research.google.com/github/Switej08/Python-Programming-II/blob/main/ASSIGNMENT%20WEEK%204.ipynb\" target=\"_parent\"><img src=\"https://colab.research.google.com/assets/colab-badge.svg\" alt=\"Open In Colab\"/></a>"
      ]
    },
    {
      "cell_type": "code",
      "execution_count": 3,
      "metadata": {
        "colab": {
          "base_uri": "https://localhost:8080/"
        },
        "id": "i-Ern6vZkYP1",
        "outputId": "c9434673-f07c-4e8a-849f-693547501dcd"
      },
      "outputs": [
        {
          "output_type": "stream",
          "name": "stdout",
          "text": [
            "176 25\n"
          ]
        }
      ],
      "source": [
        "#1.     Write a Python program to create a Vehicle class with max_speed and mileage instance attributes.\n",
        "\n",
        "class Vehicle:\n",
        "    def __init__(self, max_speed, mileage):\n",
        "        self.max_speed = max_speed\n",
        "        self.mileage = mileage\n",
        "        \n",
        "        \n",
        "car = Vehicle(176, 25)\n",
        "print(car.max_speed, car.mileage)\n"
      ]
    },
    {
      "cell_type": "code",
      "source": [
        "#2.     Create a Vehicle class without any variables and methods.\n",
        "class Vehicle:\n",
        "    pass"
      ],
      "metadata": {
        "id": "QoJQD5AhnlB7"
      },
      "execution_count": 4,
      "outputs": []
    },
    {
      "cell_type": "code",
      "source": [
        "#3   Create a child class Bus that will inherit all of the variables and methods of the Vehicle class\n",
        "class Vehicle:\n",
        "\n",
        "    def __init__(self, name, max_speed, mileage):                \n",
        "        self.name = name\n",
        "        self.max_speed = max_speed\n",
        "        self.mileage = mileage"
      ],
      "metadata": {
        "id": "2kl5bUVgp5db"
      },
      "execution_count": 6,
      "outputs": []
    },
    {
      "cell_type": "code",
      "source": [
        " #4    Create a Bus class that inherits from the Vehicle class. Give the capacity argument of Bus.seating_capacity() a default value of 50.\n"
      ],
      "metadata": {
        "id": "FAPQVvThrAx0"
      },
      "execution_count": 8,
      "outputs": []
    }
  ]
}