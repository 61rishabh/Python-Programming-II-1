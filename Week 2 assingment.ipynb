{
  "nbformat": 4,
  "nbformat_minor": 0,
  "metadata": {
    "colab": {
      "name": "Untitled1.ipynb",
      "provenance": [],
      "authorship_tag": "ABX9TyMyvD0ERGE6fSgmWD1HZvx9",
      "include_colab_link": true
    },
    "kernelspec": {
      "name": "python3",
      "display_name": "Python 3"
    },
    "language_info": {
      "name": "python"
    }
  },
  "cells": [
    {
      "cell_type": "markdown",
      "metadata": {
        "id": "view-in-github",
        "colab_type": "text"
      },
      "source": [
        "<a href=\"https://colab.research.google.com/github/Switej08/Python-Programming-II/blob/main/Week%202%20assingment.ipynb\" target=\"_parent\"><img src=\"https://colab.research.google.com/assets/colab-badge.svg\" alt=\"Open In Colab\"/></a>"
      ]
    },
    {
      "cell_type": "code",
      "execution_count": 2,
      "metadata": {
        "colab": {
          "base_uri": "https://localhost:8080/"
        },
        "id": "K_bkyzQljwHK",
        "outputId": "5ecfa388-7dcd-4be6-b304-8182910578ab"
      },
      "outputs": [
        {
          "output_type": "stream",
          "name": "stdout",
          "text": [
            "3\n",
            "3\n"
          ]
        }
      ],
      "source": [
        "#1\n",
        "def sum_three(a,b,c):\n",
        " if a==b or b==c or c==a:\n",
        "   sum=3\n",
        " else:\n",
        "   sum=3\n",
        " return sum\n",
        "print(sum_three(4,4,4))\n",
        "print(sum_three(3,2,1))\n",
        "  "
      ]
    },
    {
      "cell_type": "code",
      "source": [
        "#2\n",
        "def DtoLoT(dict):\n",
        "    dict = {'Switej':16, 'Aman':67, 'Charan':25, 'Vaibhav':45}\n",
        "    list = [(k, v) for k, v in dict.items()]\n",
        "\n",
        "    list.sort(key = lambda x: x[0])\n",
        "    return list\n",
        "\n",
        "print(DtoLoT(dict))"
      ],
      "metadata": {
        "colab": {
          "base_uri": "https://localhost:8080/"
        },
        "id": "glE0cbG5rZO-",
        "outputId": "6bb4a3e2-8acf-4a51-a665-3104fd2dba7d"
      },
      "execution_count": 11,
      "outputs": [
        {
          "output_type": "stream",
          "name": "stdout",
          "text": [
            "[('Aman', 67), ('Charan', 25), ('Switej', 16), ('Vaibhav', 45)]\n"
          ]
        }
      ]
    },
    {
      "cell_type": "code",
      "source": [
        "#3\n",
        "def replaceVowels(str, K):\n",
        "    vowels = 'aeiou'\n",
        "    for i in vowels:\n",
        "        str = str.replace(i, K)\n",
        "    return str\n",
        "\n",
        "input_str = \"I am Bob - THE BUILDER\"\n",
        "K = \"i\"\n",
        "\n",
        "print(\"Input string =\", input_str)\n",
        "print(\"Specified vowel =\", K)\n",
        "print(\"After replacing =\", replaceVowels(input_str, K))"
      ],
      "metadata": {
        "colab": {
          "base_uri": "https://localhost:8080/"
        },
        "id": "Aoc8IxiVpHko",
        "outputId": "c5f91f42-9905-4fa2-a64c-39d9ff26f012"
      },
      "execution_count": 6,
      "outputs": [
        {
          "output_type": "stream",
          "name": "stdout",
          "text": [
            "Input string = I am Bob - THE BUILDER\n",
            "Specified vowel = i\n",
            "After replacing = I im Bib - THE BUILDER\n"
          ]
        }
      ]
    },
    {
      "cell_type": "code",
      "source": [
        "#4\n",
        "#def function3(str):\n",
        "rocky = \"Voilence likes me, I can't avoid...\"\n",
        "d = list(rocky)\n",
        "print(d)\n",
        "go = []\n",
        "for i in d:\n",
        "    go.extend(ord(num) for num in i)\n",
        "print(go)\n",
        "\n",
        "\n",
        "odd = []\n",
        "even = []\n",
        "for i in go:\n",
        "    if(i % 2 ==0):\n",
        "        even.append(i)\n",
        "    else:\n",
        "        odd.append(i)"
      ],
      "metadata": {
        "colab": {
          "base_uri": "https://localhost:8080/"
        },
        "id": "5Onjy_BPp-d4",
        "outputId": "42af60c2-d716-4d02-9c54-30118917502e"
      },
      "execution_count": 12,
      "outputs": [
        {
          "output_type": "stream",
          "name": "stdout",
          "text": [
            "['V', 'o', 'i', 'l', 'e', 'n', 'c', 'e', ' ', 'l', 'i', 'k', 'e', 's', ' ', 'm', 'e', ',', ' ', 'I', ' ', 'c', 'a', 'n', \"'\", 't', ' ', 'a', 'v', 'o', 'i', 'd', '.', '.', '.']\n",
            "[86, 111, 105, 108, 101, 110, 99, 101, 32, 108, 105, 107, 101, 115, 32, 109, 101, 44, 32, 73, 32, 99, 97, 110, 39, 116, 32, 97, 118, 111, 105, 100, 46, 46, 46]\n"
          ]
        }
      ]
    }
  ]
}